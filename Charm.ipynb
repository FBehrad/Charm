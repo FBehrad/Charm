{
  "nbformat": 4,
  "nbformat_minor": 0,
  "metadata": {
    "colab": {
      "provenance": [],
      "authorship_tag": "ABX9TyPfnJvaAC0Q109lFfkeWR5M",
      "include_colab_link": true
    },
    "kernelspec": {
      "name": "python3",
      "display_name": "Python 3"
    },
    "language_info": {
      "name": "python"
    },
    "widgets": {
      "application/vnd.jupyter.widget-state+json": {
        "2e3e90886ad74da0a3457646551849c5": {
          "model_module": "@jupyter-widgets/controls",
          "model_name": "HBoxModel",
          "model_module_version": "1.5.0",
          "state": {
            "_dom_classes": [],
            "_model_module": "@jupyter-widgets/controls",
            "_model_module_version": "1.5.0",
            "_model_name": "HBoxModel",
            "_view_count": null,
            "_view_module": "@jupyter-widgets/controls",
            "_view_module_version": "1.5.0",
            "_view_name": "HBoxView",
            "box_style": "",
            "children": [
              "IPY_MODEL_31c3bdaa8ba444b18a7868ccb4cdf94e",
              "IPY_MODEL_6a768925813e4005b0b0bad32c91e2b2",
              "IPY_MODEL_39666f050e8145d293d73c2a80b99377"
            ],
            "layout": "IPY_MODEL_9d804e7fcdf640c2bd768f265e8d2096"
          }
        },
        "31c3bdaa8ba444b18a7868ccb4cdf94e": {
          "model_module": "@jupyter-widgets/controls",
          "model_name": "HTMLModel",
          "model_module_version": "1.5.0",
          "state": {
            "_dom_classes": [],
            "_model_module": "@jupyter-widgets/controls",
            "_model_module_version": "1.5.0",
            "_model_name": "HTMLModel",
            "_view_count": null,
            "_view_module": "@jupyter-widgets/controls",
            "_view_module_version": "1.5.0",
            "_view_name": "HTMLView",
            "description": "",
            "description_tooltip": null,
            "layout": "IPY_MODEL_faf83d06b97c46d99d928305da6a6fa0",
            "placeholder": "​",
            "style": "IPY_MODEL_e9fdf54ad8844f898a824f237b467999",
            "value": "dino_small_pos.pt: 100%"
          }
        },
        "6a768925813e4005b0b0bad32c91e2b2": {
          "model_module": "@jupyter-widgets/controls",
          "model_name": "FloatProgressModel",
          "model_module_version": "1.5.0",
          "state": {
            "_dom_classes": [],
            "_model_module": "@jupyter-widgets/controls",
            "_model_module_version": "1.5.0",
            "_model_name": "FloatProgressModel",
            "_view_count": null,
            "_view_module": "@jupyter-widgets/controls",
            "_view_module_version": "1.5.0",
            "_view_name": "ProgressView",
            "bar_style": "success",
            "description": "",
            "description_tooltip": null,
            "layout": "IPY_MODEL_2094054f3de940838e514a95da8624f2",
            "max": 2105137,
            "min": 0,
            "orientation": "horizontal",
            "style": "IPY_MODEL_2e8213e3726a4ada9af948702c19da0a",
            "value": 2105137
          }
        },
        "39666f050e8145d293d73c2a80b99377": {
          "model_module": "@jupyter-widgets/controls",
          "model_name": "HTMLModel",
          "model_module_version": "1.5.0",
          "state": {
            "_dom_classes": [],
            "_model_module": "@jupyter-widgets/controls",
            "_model_module_version": "1.5.0",
            "_model_name": "HTMLModel",
            "_view_count": null,
            "_view_module": "@jupyter-widgets/controls",
            "_view_module_version": "1.5.0",
            "_view_name": "HTMLView",
            "description": "",
            "description_tooltip": null,
            "layout": "IPY_MODEL_c794d48ebd824ac2a62da63d379e3d90",
            "placeholder": "​",
            "style": "IPY_MODEL_65533c224496455eb0cfe7803f9b3f40",
            "value": " 2.11M/2.11M [00:00&lt;00:00, 20.6MB/s]"
          }
        },
        "9d804e7fcdf640c2bd768f265e8d2096": {
          "model_module": "@jupyter-widgets/base",
          "model_name": "LayoutModel",
          "model_module_version": "1.2.0",
          "state": {
            "_model_module": "@jupyter-widgets/base",
            "_model_module_version": "1.2.0",
            "_model_name": "LayoutModel",
            "_view_count": null,
            "_view_module": "@jupyter-widgets/base",
            "_view_module_version": "1.2.0",
            "_view_name": "LayoutView",
            "align_content": null,
            "align_items": null,
            "align_self": null,
            "border": null,
            "bottom": null,
            "display": null,
            "flex": null,
            "flex_flow": null,
            "grid_area": null,
            "grid_auto_columns": null,
            "grid_auto_flow": null,
            "grid_auto_rows": null,
            "grid_column": null,
            "grid_gap": null,
            "grid_row": null,
            "grid_template_areas": null,
            "grid_template_columns": null,
            "grid_template_rows": null,
            "height": null,
            "justify_content": null,
            "justify_items": null,
            "left": null,
            "margin": null,
            "max_height": null,
            "max_width": null,
            "min_height": null,
            "min_width": null,
            "object_fit": null,
            "object_position": null,
            "order": null,
            "overflow": null,
            "overflow_x": null,
            "overflow_y": null,
            "padding": null,
            "right": null,
            "top": null,
            "visibility": null,
            "width": null
          }
        },
        "faf83d06b97c46d99d928305da6a6fa0": {
          "model_module": "@jupyter-widgets/base",
          "model_name": "LayoutModel",
          "model_module_version": "1.2.0",
          "state": {
            "_model_module": "@jupyter-widgets/base",
            "_model_module_version": "1.2.0",
            "_model_name": "LayoutModel",
            "_view_count": null,
            "_view_module": "@jupyter-widgets/base",
            "_view_module_version": "1.2.0",
            "_view_name": "LayoutView",
            "align_content": null,
            "align_items": null,
            "align_self": null,
            "border": null,
            "bottom": null,
            "display": null,
            "flex": null,
            "flex_flow": null,
            "grid_area": null,
            "grid_auto_columns": null,
            "grid_auto_flow": null,
            "grid_auto_rows": null,
            "grid_column": null,
            "grid_gap": null,
            "grid_row": null,
            "grid_template_areas": null,
            "grid_template_columns": null,
            "grid_template_rows": null,
            "height": null,
            "justify_content": null,
            "justify_items": null,
            "left": null,
            "margin": null,
            "max_height": null,
            "max_width": null,
            "min_height": null,
            "min_width": null,
            "object_fit": null,
            "object_position": null,
            "order": null,
            "overflow": null,
            "overflow_x": null,
            "overflow_y": null,
            "padding": null,
            "right": null,
            "top": null,
            "visibility": null,
            "width": null
          }
        },
        "e9fdf54ad8844f898a824f237b467999": {
          "model_module": "@jupyter-widgets/controls",
          "model_name": "DescriptionStyleModel",
          "model_module_version": "1.5.0",
          "state": {
            "_model_module": "@jupyter-widgets/controls",
            "_model_module_version": "1.5.0",
            "_model_name": "DescriptionStyleModel",
            "_view_count": null,
            "_view_module": "@jupyter-widgets/base",
            "_view_module_version": "1.2.0",
            "_view_name": "StyleView",
            "description_width": ""
          }
        },
        "2094054f3de940838e514a95da8624f2": {
          "model_module": "@jupyter-widgets/base",
          "model_name": "LayoutModel",
          "model_module_version": "1.2.0",
          "state": {
            "_model_module": "@jupyter-widgets/base",
            "_model_module_version": "1.2.0",
            "_model_name": "LayoutModel",
            "_view_count": null,
            "_view_module": "@jupyter-widgets/base",
            "_view_module_version": "1.2.0",
            "_view_name": "LayoutView",
            "align_content": null,
            "align_items": null,
            "align_self": null,
            "border": null,
            "bottom": null,
            "display": null,
            "flex": null,
            "flex_flow": null,
            "grid_area": null,
            "grid_auto_columns": null,
            "grid_auto_flow": null,
            "grid_auto_rows": null,
            "grid_column": null,
            "grid_gap": null,
            "grid_row": null,
            "grid_template_areas": null,
            "grid_template_columns": null,
            "grid_template_rows": null,
            "height": null,
            "justify_content": null,
            "justify_items": null,
            "left": null,
            "margin": null,
            "max_height": null,
            "max_width": null,
            "min_height": null,
            "min_width": null,
            "object_fit": null,
            "object_position": null,
            "order": null,
            "overflow": null,
            "overflow_x": null,
            "overflow_y": null,
            "padding": null,
            "right": null,
            "top": null,
            "visibility": null,
            "width": null
          }
        },
        "2e8213e3726a4ada9af948702c19da0a": {
          "model_module": "@jupyter-widgets/controls",
          "model_name": "ProgressStyleModel",
          "model_module_version": "1.5.0",
          "state": {
            "_model_module": "@jupyter-widgets/controls",
            "_model_module_version": "1.5.0",
            "_model_name": "ProgressStyleModel",
            "_view_count": null,
            "_view_module": "@jupyter-widgets/base",
            "_view_module_version": "1.2.0",
            "_view_name": "StyleView",
            "bar_color": null,
            "description_width": ""
          }
        },
        "c794d48ebd824ac2a62da63d379e3d90": {
          "model_module": "@jupyter-widgets/base",
          "model_name": "LayoutModel",
          "model_module_version": "1.2.0",
          "state": {
            "_model_module": "@jupyter-widgets/base",
            "_model_module_version": "1.2.0",
            "_model_name": "LayoutModel",
            "_view_count": null,
            "_view_module": "@jupyter-widgets/base",
            "_view_module_version": "1.2.0",
            "_view_name": "LayoutView",
            "align_content": null,
            "align_items": null,
            "align_self": null,
            "border": null,
            "bottom": null,
            "display": null,
            "flex": null,
            "flex_flow": null,
            "grid_area": null,
            "grid_auto_columns": null,
            "grid_auto_flow": null,
            "grid_auto_rows": null,
            "grid_column": null,
            "grid_gap": null,
            "grid_row": null,
            "grid_template_areas": null,
            "grid_template_columns": null,
            "grid_template_rows": null,
            "height": null,
            "justify_content": null,
            "justify_items": null,
            "left": null,
            "margin": null,
            "max_height": null,
            "max_width": null,
            "min_height": null,
            "min_width": null,
            "object_fit": null,
            "object_position": null,
            "order": null,
            "overflow": null,
            "overflow_x": null,
            "overflow_y": null,
            "padding": null,
            "right": null,
            "top": null,
            "visibility": null,
            "width": null
          }
        },
        "65533c224496455eb0cfe7803f9b3f40": {
          "model_module": "@jupyter-widgets/controls",
          "model_name": "DescriptionStyleModel",
          "model_module_version": "1.5.0",
          "state": {
            "_model_module": "@jupyter-widgets/controls",
            "_model_module_version": "1.5.0",
            "_model_name": "DescriptionStyleModel",
            "_view_count": null,
            "_view_module": "@jupyter-widgets/base",
            "_view_module_version": "1.2.0",
            "_view_name": "StyleView",
            "description_width": ""
          }
        }
      }
    }
  },
  "cells": [
    {
      "cell_type": "markdown",
      "metadata": {
        "id": "view-in-github",
        "colab_type": "text"
      },
      "source": [
        "<a href=\"https://colab.research.google.com/github/FBehrad/Charm/blob/main/Charm.ipynb\" target=\"_parent\"><img src=\"https://colab.research.google.com/assets/colab-badge.svg\" alt=\"Open In Colab\"/></a>"
      ]
    },
    {
      "cell_type": "markdown",
      "source": [
        "**1. Get requirements.py**\n"
      ],
      "metadata": {
        "id": "fhmP0ZFTbRFi"
      }
    },
    {
      "cell_type": "code",
      "execution_count": null,
      "metadata": {
        "collapsed": true,
        "id": "knoETPDba6FJ"
      },
      "outputs": [],
      "source": [
        "!wget https://raw.githubusercontent.com/FBehrad/Charm/refs/heads/main/requirements.txt"
      ]
    },
    {
      "cell_type": "markdown",
      "source": [
        "\n",
        "\n",
        "---\n",
        "\n",
        "\n",
        "**2. Install the rquirements:**\n"
      ],
      "metadata": {
        "id": "kAZS_WifbX0W"
      }
    },
    {
      "cell_type": "code",
      "source": [
        "!pip install -r requirements.txt\n"
      ],
      "metadata": {
        "collapsed": true,
        "id": "BJCSKkUzbag-"
      },
      "execution_count": null,
      "outputs": []
    },
    {
      "cell_type": "markdown",
      "source": [
        "\n",
        "\n",
        "---\n",
        "**3. Install Charm tokenizer**\n"
      ],
      "metadata": {
        "id": "7gRwyClMe2iz"
      }
    },
    {
      "cell_type": "code",
      "source": [
        "!pip install Charm-tokenizer==1.0.16"
      ],
      "metadata": {
        "collapsed": true,
        "id": "Q1PQiGX4e7fu"
      },
      "execution_count": null,
      "outputs": []
    },
    {
      "cell_type": "markdown",
      "source": [
        "\n",
        "\n",
        "---\n",
        "\n",
        "**4. Prepare patches and their corresponding position embeddings**\n",
        "\n",
        "Charm Tokenizer has the following input args:\n",
        "\n",
        "*   patch_selection (str): The method for selecting important patches: Options: 'saliency', 'random', 'frequency', 'gradient', 'entropy', 'original'.\n",
        "*   training_dataset (str): Used to set the number of ViT input tokens to match a specific training dataset from the paper.\n",
        "  * Aesthetic assessment datasets: 'aadb', 'tad66k', 'para', 'baid'.\n",
        "  * Quality assessment datasets: 'spaq', 'koniq10k'.\n",
        "\n",
        "* backbone (str): The ViT backbone model (default: 'facebook/dinov2-small').\n",
        "* factor (float): The downscaling factor for less important patches (default: 0.5).\n",
        "* scales (int): The number of scales used for multiscale processing (default: 2).\n",
        "* random_crop_size (tuple): Used for the 'original' patch selection strategy (default: (224, 224)).\n",
        "* downscale_shortest_edge (int): Used for the 'original' patch selection strategy (default: 256).\n",
        "* without_pad_or_dropping (bool): Whether to avoid padding or dropping patches (default: True).\n",
        "\n",
        "\n",
        "The output is the preprocessed tokens, their corresponding positional embeddings, and a mask token that indicates which patches are in high resolution and which are in low resolution.\n",
        "\n",
        "\n",
        "**Note:** While random patch selection during training helps avoid overfitting,for consistent results during inference, fully deterministic patch selection approaches should be used."
      ],
      "metadata": {
        "id": "nBDrJEtufAUy"
      }
    },
    {
      "cell_type": "code",
      "source": [
        "from Charm_tokenizer.ImageProcessor import Charm_Tokenizer\n",
        "import requests\n",
        "\n",
        "url = 'http://images.cocodataset.org/val2017/000000039769.jpg'\n",
        "img_path = requests.get(url, stream=True).raw\n",
        "\n",
        "charm_tokenizer = Charm_Tokenizer(patch_selection='frequency', training_dataset='tad66k', without_pad_or_dropping=True)\n",
        "tokens, pos_embed, mask_token = charm_tokenizer.preprocess(img_path)"
      ],
      "metadata": {
        "id": "JB0qNz8CfMDH",
        "colab": {
          "base_uri": "https://localhost:8080/",
          "height": 49,
          "referenced_widgets": [
            "2e3e90886ad74da0a3457646551849c5",
            "31c3bdaa8ba444b18a7868ccb4cdf94e",
            "6a768925813e4005b0b0bad32c91e2b2",
            "39666f050e8145d293d73c2a80b99377",
            "9d804e7fcdf640c2bd768f265e8d2096",
            "faf83d06b97c46d99d928305da6a6fa0",
            "e9fdf54ad8844f898a824f237b467999",
            "2094054f3de940838e514a95da8624f2",
            "2e8213e3726a4ada9af948702c19da0a",
            "c794d48ebd824ac2a62da63d379e3d90",
            "65533c224496455eb0cfe7803f9b3f40"
          ]
        },
        "outputId": "361d4d4b-6da2-48bf-8cf5-05b43c1eb5fa"
      },
      "execution_count": 7,
      "outputs": [
        {
          "output_type": "display_data",
          "data": {
            "text/plain": [
              "dino_small_pos.pt:   0%|          | 0.00/2.11M [00:00<?, ?B/s]"
            ],
            "application/vnd.jupyter.widget-view+json": {
              "version_major": 2,
              "version_minor": 0,
              "model_id": "2e3e90886ad74da0a3457646551849c5"
            }
          },
          "metadata": {}
        }
      ]
    },
    {
      "cell_type": "markdown",
      "source": [
        "\n",
        "\n",
        "---\n",
        "**5. Predict aesthetic score**\n",
        "\n",
        "* If training_dataset is set to 'spaq' or 'koniq10k', the model predicts the image *quality* score. For other options ('aadb', 'tad66k', 'para', 'baid'), it predicts the image *aesthetic* score.\n",
        "\n",
        "* Selecting a dataset with image resolutions similar to your input images can improve prediction accuracy.\n",
        "\n",
        "* For more details about the process, please refer to the paper.\n",
        "\n"
      ],
      "metadata": {
        "id": "EUJWFlGNmATx"
      }
    },
    {
      "cell_type": "code",
      "source": [
        "from Charm_tokenizer.Backbone import backbone\n",
        "from Charm_tokenizer import model\n",
        "\n",
        "model = backbone(training_dataset='tad66k', device='cpu')\n",
        "prediction = model.predict(tokens, pos_embed, mask_token)"
      ],
      "metadata": {
        "colab": {
          "base_uri": "https://localhost:8080/"
        },
        "id": "xntw1RtDlyyy",
        "outputId": "4f3ad76d-8696-411d-d9ff-7da1cfcc7571"
      },
      "execution_count": 9,
      "outputs": [
        {
          "output_type": "stream",
          "name": "stdout",
          "text": [
            "Prediction: 3.813 from 1 to 10\n"
          ]
        }
      ]
    }
  ]
}