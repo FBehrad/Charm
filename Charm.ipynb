{
  "nbformat": 4,
  "nbformat_minor": 0,
  "metadata": {
    "colab": {
      "provenance": [],
      "authorship_tag": "ABX9TyPCZfqYzzDqMpmb+kKZMxME",
      "include_colab_link": true
    },
    "kernelspec": {
      "name": "python3",
      "display_name": "Python 3"
    },
    "language_info": {
      "name": "python"
    }
  },
  "cells": [
    {
      "cell_type": "markdown",
      "metadata": {
        "id": "view-in-github",
        "colab_type": "text"
      },
      "source": [
        "<a href=\"https://colab.research.google.com/github/FBehrad/Charm/blob/main/Charm.ipynb\" target=\"_parent\"><img src=\"https://colab.research.google.com/assets/colab-badge.svg\" alt=\"Open In Colab\"/></a>"
      ]
    },
    {
      "cell_type": "markdown",
      "source": [
        "1. Get requirements.py\n"
      ],
      "metadata": {
        "id": "fhmP0ZFTbRFi"
      }
    },
    {
      "cell_type": "code",
      "execution_count": null,
      "metadata": {
        "collapsed": true,
        "id": "knoETPDba6FJ"
      },
      "outputs": [],
      "source": [
        "!wget https://raw.githubusercontent.com/FBehrad/Charm/refs/heads/main/requirements.txt"
      ]
    },
    {
      "cell_type": "markdown",
      "source": [
        "\n",
        "\n",
        "---\n",
        "\n",
        "\n",
        "2. Install the rquirements (***Extremly important***):\n",
        "\n",
        "**Note:** If the following cell didn't work, you should install packages one by one:\n",
        "\n",
        "For example:\n",
        "\n",
        "```\n",
        "!pip install timm==0.4.12\n",
        "```\n",
        "\n"
      ],
      "metadata": {
        "id": "kAZS_WifbX0W"
      }
    },
    {
      "cell_type": "code",
      "source": [
        "!pip install -r requirements.txt\n"
      ],
      "metadata": {
        "collapsed": true,
        "id": "BJCSKkUzbag-"
      },
      "execution_count": null,
      "outputs": []
    },
    {
      "cell_type": "markdown",
      "source": [
        "\n",
        "\n",
        "---\n",
        "3. Install Charm tokenizer\n"
      ],
      "metadata": {
        "id": "7gRwyClMe2iz"
      }
    },
    {
      "cell_type": "code",
      "source": [
        "!pip install Charm-tokenizer==1.0.16"
      ],
      "metadata": {
        "collapsed": true,
        "id": "Q1PQiGX4e7fu"
      },
      "execution_count": null,
      "outputs": []
    },
    {
      "cell_type": "markdown",
      "source": [
        "\n",
        "\n",
        "---\n",
        "4. Prepare patches and their corresponding position embeddings\n"
      ],
      "metadata": {
        "id": "nBDrJEtufAUy"
      }
    },
    {
      "cell_type": "code",
      "source": [
        "from Charm_tokenizer.ImageProcessor import Charm_Tokenizer\n",
        "import requests\n",
        "\n",
        "url = 'http://images.cocodataset.org/val2017/000000039769.jpg'\n",
        "img_path = requests.get(url, stream=True).raw\n",
        "\n",
        "charm_tokenizer = Charm_Tokenizer(patch_selection='frequency', training_dataset='tad66k', without_pad_or_dropping=True)\n",
        "tokens, pos_embed, mask_token = charm_tokenizer.preprocess(img_path)"
      ],
      "metadata": {
        "id": "JB0qNz8CfMDH"
      },
      "execution_count": 1,
      "outputs": []
    },
    {
      "cell_type": "markdown",
      "source": [
        "\n",
        "\n",
        "---\n",
        "5. Predict aesthetic score\n"
      ],
      "metadata": {
        "id": "EUJWFlGNmATx"
      }
    },
    {
      "cell_type": "code",
      "source": [
        "from Charm_tokenizer.Backbone import backbone\n",
        "from Charm_tokenizer import model\n",
        "\n",
        "model = backbone(training_dataset='tad66k', device='cpu')\n",
        "prediction = model.predict(tokens, pos_embed, mask_token)"
      ],
      "metadata": {
        "colab": {
          "base_uri": "https://localhost:8080/"
        },
        "id": "xntw1RtDlyyy",
        "outputId": "b5cdc4e8-b809-4f73-88a1-9088ad4f901d"
      },
      "execution_count": 2,
      "outputs": [
        {
          "output_type": "stream",
          "name": "stdout",
          "text": [
            "Prediction: 3.813 from 1 to 10\n"
          ]
        }
      ]
    }
  ]
}