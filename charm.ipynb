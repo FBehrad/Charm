{
  "nbformat": 4,
  "nbformat_minor": 0,
  "metadata": {
    "colab": {
      "provenance": [],
      "gpuType": "T4",
      "authorship_tag": "ABX9TyMcLDywxWSFB53VNYZV2bVs",
      "include_colab_link": true
    },
    "kernelspec": {
      "name": "python3",
      "display_name": "Python 3"
    },
    "language_info": {
      "name": "python"
    },
    "accelerator": "GPU"
  },
  "cells": [
    {
      "cell_type": "markdown",
      "metadata": {
        "id": "view-in-github",
        "colab_type": "text"
      },
      "source": [
        "<a href=\"https://colab.research.google.com/github/FBehrad/Charm/blob/main/charm.ipynb\" target=\"_parent\"><img src=\"https://colab.research.google.com/assets/colab-badge.svg\" alt=\"Open In Colab\"/></a>"
      ]
    },
    {
      "cell_type": "markdown",
      "source": [
        "**1. Get requirements.py**\n"
      ],
      "metadata": {
        "id": "fhmP0ZFTbRFi"
      }
    },
    {
      "cell_type": "code",
      "execution_count": null,
      "metadata": {
        "id": "knoETPDba6FJ"
      },
      "outputs": [],
      "source": [
        "!wget https://raw.githubusercontent.com/FBehrad/Charm/refs/heads/main/requirements.txt"
      ]
    },
    {
      "cell_type": "markdown",
      "source": [
        "\n",
        "\n",
        "---\n",
        "\n",
        "\n",
        "**2. Install the rquirements:**\n"
      ],
      "metadata": {
        "id": "kAZS_WifbX0W"
      }
    },
    {
      "cell_type": "code",
      "source": [
        "!pip install -r requirements.txt\n",
        "!pip install \"numpy<2\""
      ],
      "metadata": {
        "id": "BJCSKkUzbag-"
      },
      "execution_count": null,
      "outputs": []
    },
    {
      "cell_type": "markdown",
      "source": [
        "\n",
        "\n",
        "---\n",
        "**3. Install Charm tokenizer**\n"
      ],
      "metadata": {
        "id": "7gRwyClMe2iz"
      }
    },
    {
      "cell_type": "code",
      "source": [
        "!pip install Charm-tokenizer==1.0.16"
      ],
      "metadata": {
        "id": "Q1PQiGX4e7fu"
      },
      "execution_count": null,
      "outputs": []
    },
    {
      "cell_type": "markdown",
      "source": [
        "\n",
        "\n",
        "---\n",
        "\n",
        "**4. Prepare patches and their corresponding position embeddings**\n",
        "\n",
        "Charm Tokenizer has the following input args:\n",
        "\n",
        "*   patch_selection (str): The method for selecting important patches: Options: 'saliency', 'random', 'frequency', 'gradient', 'entropy', 'original'.\n",
        "*   training_dataset (str): Used to set the number of ViT input tokens to match a specific training dataset from the paper.\n",
        "  * Aesthetic assessment datasets: 'aadb', 'tad66k', 'para', 'baid'.\n",
        "  * Quality assessment datasets: 'spaq', 'koniq10k'.\n",
        "\n",
        "* backbone (str): The ViT backbone model (default: 'facebook/dinov2-small').\n",
        "* factor (float): The downscaling factor for less important patches (default: 0.5).\n",
        "* scales (int): The number of scales used for multiscale processing (default: 2).\n",
        "* random_crop_size (tuple): Used for the 'original' patch selection strategy (default: (224, 224)).\n",
        "* downscale_shortest_edge (int): Used for the 'original' patch selection strategy (default: 256).\n",
        "* without_pad_or_dropping (bool): Whether to avoid padding or dropping patches (default: True).\n",
        "\n",
        "\n",
        "The output is the preprocessed tokens, their corresponding positional embeddings, and a mask token that indicates which patches are in high resolution and which are in low resolution.\n",
        "\n",
        "\n",
        "**Note:** While random patch selection during training helps avoid overfitting,for consistent results during inference, fully deterministic patch selection approaches should be used."
      ],
      "metadata": {
        "id": "nBDrJEtufAUy"
      }
    },
    {
      "cell_type": "code",
      "source": [
        "from Charm_tokenizer.ImageProcessor import Charm_Tokenizer\n",
        "import requests\n",
        "\n",
        "url = 'http://images.cocodataset.org/val2017/000000039769.jpg'\n",
        "img_path = requests.get(url, stream=True).raw\n",
        "\n",
        "charm_tokenizer = Charm_Tokenizer(patch_selection='frequency', training_dataset='tad66k', without_pad_or_dropping=True)\n",
        "tokens, pos_embed, mask_token = charm_tokenizer.preprocess(img_path)"
      ],
      "metadata": {
        "id": "JB0qNz8CfMDH"
      },
      "execution_count": 4,
      "outputs": []
    },
    {
      "cell_type": "markdown",
      "source": [
        "\n",
        "\n",
        "---\n",
        "**5. Predict aesthetic score**\n",
        "\n",
        "* If training_dataset is set to 'spaq' or 'koniq10k', the model predicts the image *quality* score. For other options ('aadb', 'tad66k', 'para', 'baid'), it predicts the image *aesthetic* score.\n",
        "\n",
        "* Selecting a dataset with image resolutions similar to your input images can improve prediction accuracy.\n",
        "\n",
        "* For more details about the process, please refer to the paper.\n",
        "\n"
      ],
      "metadata": {
        "id": "EUJWFlGNmATx"
      }
    },
    {
      "cell_type": "code",
      "source": [
        "from Charm_tokenizer.Backbone import backbone\n",
        "from Charm_tokenizer import model\n",
        "\n",
        "model = backbone(training_dataset='tad66k', device='cpu')\n",
        "prediction = model.predict(tokens, pos_embed, mask_token)"
      ],
      "metadata": {
        "id": "xntw1RtDlyyy"
      },
      "execution_count": null,
      "outputs": []
    }
  ]
}